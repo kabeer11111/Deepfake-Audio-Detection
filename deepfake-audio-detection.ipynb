{
 "cells": [
  {
   "cell_type": "code",
   "execution_count": null,
   "metadata": {
    "execution": {
     "iopub.execute_input": "2024-11-06T19:10:38.464793Z",
     "iopub.status.busy": "2024-11-06T19:10:38.463701Z",
     "iopub.status.idle": "2024-11-06T19:10:38.471776Z",
     "shell.execute_reply": "2024-11-06T19:10:38.470595Z",
     "shell.execute_reply.started": "2024-11-06T19:10:38.464748Z"
    },
    "trusted": true
   },
   "outputs": [],
   "source": [
    "import os\n",
    "import numpy as np\n",
    "import librosa\n",
    "import tensorflow as tf\n",
    "from tensorflow.keras.layers import Input, Conv2D, MaxPooling2D, Flatten, Dense, Dropout, BatchNormalization\n",
    "from tensorflow.keras.models import Model\n",
    "from tensorflow.keras.utils import to_categorical\n",
    "from tensorflow.keras.callbacks import EarlyStopping, LearningRateScheduler\n",
    "import random\n",
    "\n",
    "DATASET_PATH = \"/kaggle/input/deep911/validation/combi\"\n",
    "LABEL_FILE_PATH = \"/kaggle/input/deep911/validation/label_valid.txt\"\n",
    "NUM_CLASSES = 2\n",
    "SAMPLE_RATE = 16000\n",
    "DURATION = 5\n",
    "N_MELS = 128\n",
    "MAX_TIME_STEPS = 109\n"
   ]
  },
  {
   "cell_type": "code",
   "execution_count": null,
   "metadata": {
    "execution": {
     "iopub.execute_input": "2024-11-06T19:10:40.626470Z",
     "iopub.status.busy": "2024-11-06T19:10:40.626075Z",
     "iopub.status.idle": "2024-11-06T19:10:40.634719Z",
     "shell.execute_reply": "2024-11-06T19:10:40.633486Z",
     "shell.execute_reply.started": "2024-11-06T19:10:40.626434Z"
    },
    "trusted": true
   },
   "outputs": [],
   "source": [
    "def augment_audio(audio):\n",
    "    augmented_audio = audio.copy()\n",
    "\n",
    "    shift_range = int(SAMPLE_RATE * 0.5)\n",
    "    shift = random.randint(-shift_range, shift_range)\n",
    "    augmented_audio = np.roll(augmented_audio, shift)\n",
    "\n",
    "  \n",
    "    if random.random() > 0.5:\n",
    "        n_steps = random.randint(-2, 2)\n",
    "        augmented_audio = librosa.effects.pitch_shift(augmented_audio, sr=SAMPLE_RATE, n_steps=n_steps)\n",
    "\n",
    "   \n",
    "    noise = np.random.randn(len(audio)) * 0.003\n",
    "    augmented_audio += noise\n",
    "\n",
    "   \n",
    "    if random.random() > 0.5:\n",
    "        stretch_factor = random.uniform(0.8, 1.2)\n",
    "        augmented_audio = librosa.effects.time_stretch(augmented_audio, rate=stretch_factor)\n",
    "\n",
    "    return augmented_audio\n"
   ]
  },
  {
   "cell_type": "code",
   "execution_count": null,
   "metadata": {
    "execution": {
     "iopub.execute_input": "2024-11-06T19:11:02.695637Z",
     "iopub.status.busy": "2024-11-06T19:11:02.695181Z",
     "iopub.status.idle": "2024-11-06T19:11:02.717745Z",
     "shell.execute_reply": "2024-11-06T19:11:02.716791Z",
     "shell.execute_reply.started": "2024-11-06T19:11:02.695596Z"
    },
    "trusted": true
   },
   "outputs": [],
   "source": [
    "\n",
    "labels = {}\n",
    "with open(LABEL_FILE_PATH, 'r') as label_file:\n",
    "    lines = label_file.readlines()\n",
    "for line in lines:\n",
    "    parts = line.strip().split()\n",
    "    if len(parts) < 3:\n",
    "        continue\n",
    "    file_name = parts[1]\n",
    "    label = 1 if parts[-1] == \"bonafide\" else 0\n",
    "    labels[file_name] = label\n"
   ]
  },
  {
   "cell_type": "code",
   "execution_count": null,
   "metadata": {
    "execution": {
     "iopub.execute_input": "2024-11-06T19:11:20.806117Z",
     "iopub.status.busy": "2024-11-06T19:11:20.805653Z",
     "iopub.status.idle": "2024-11-06T19:39:07.712745Z",
     "shell.execute_reply": "2024-11-06T19:39:07.711614Z",
     "shell.execute_reply.started": "2024-11-06T19:11:20.806057Z"
    },
    "trusted": true
   },
   "outputs": [],
   "source": [
    "X = []\n",
    "y = []\n",
    "for file_name, label in labels.items():\n",
    "    file_path = os.path.join(DATASET_PATH, file_name + \".flac\")\n",
    "    audio, _ = librosa.load(file_path, sr=SAMPLE_RATE, duration=DURATION)\n",
    "    \n",
    "   \n",
    "    for a in [audio, augment_audio(audio), augment_audio(audio)]:\n",
    "        mel_spectrogram = librosa.feature.melspectrogram(y=a, sr=SAMPLE_RATE, n_mels=N_MELS)\n",
    "        mel_spectrogram = librosa.power_to_db(mel_spectrogram, ref=np.max)\n",
    "        if mel_spectrogram.shape[1] < MAX_TIME_STEPS:\n",
    "            mel_spectrogram = np.pad(mel_spectrogram, ((0, 0), (0, MAX_TIME_STEPS - mel_spectrogram.shape[1])), mode='constant')\n",
    "        else:\n",
    "            mel_spectrogram = mel_spectrogram[:, :MAX_TIME_STEPS]\n",
    "        X.append(mel_spectrogram)\n",
    "        y.append(label)\n",
    "\n",
    "X = np.array(X)\n",
    "y = np.array(y)\n",
    "\n",
    "y_encoded = to_categorical(y, NUM_CLASSES)\n",
    "split_index = int(0.8 * len(X))\n",
    "X_train, X_val = X[:split_index], X[split_index:]\n",
    "y_train, y_val = y_encoded[:split_index], y_encoded[split_index:]\n"
   ]
  },
  {
   "cell_type": "code",
   "execution_count": null,
   "metadata": {
    "execution": {
     "iopub.execute_input": "2024-11-06T19:39:17.659924Z",
     "iopub.status.busy": "2024-11-06T19:39:17.659520Z",
     "iopub.status.idle": "2024-11-06T19:39:17.665732Z",
     "shell.execute_reply": "2024-11-06T19:39:17.664710Z",
     "shell.execute_reply.started": "2024-11-06T19:39:17.659885Z"
    },
    "trusted": true
   },
   "outputs": [],
   "source": [
    "print(\"X_train shape:\", X_train.shape)\n",
    "print(\"y_train shape:\", y_train.shape)"
   ]
  },
  {
   "cell_type": "code",
   "execution_count": null,
   "metadata": {
    "execution": {
     "iopub.execute_input": "2024-11-06T20:02:25.401545Z",
     "iopub.status.busy": "2024-11-06T20:02:25.401099Z",
     "iopub.status.idle": "2024-11-06T20:02:25.533313Z",
     "shell.execute_reply": "2024-11-06T20:02:25.532127Z",
     "shell.execute_reply.started": "2024-11-06T20:02:25.401489Z"
    },
    "trusted": true
   },
   "outputs": [],
   "source": [
    "#CNN model\n",
    "input_shape = (N_MELS, MAX_TIME_STEPS, 1)\n",
    "model_input = Input(shape=input_shape)\n",
    "\n",
    "x = Conv2D(32, kernel_size=(3, 3), activation='relu', padding='same', kernel_regularizer=l2(0.001))(model_input)\n",
    "x = BatchNormalization()(x)\n",
    "x = MaxPooling2D(pool_size=(2, 2))(x)\n",
    "x = Dropout(0.4)(x)\n",
    "\n",
    "x = Conv2D(64, kernel_size=(3, 3), activation='relu', padding='same', kernel_regularizer=l2(0.001))(x)\n",
    "x = BatchNormalization()(x)\n",
    "x = MaxPooling2D(pool_size=(2, 2))(x)\n",
    "x = Dropout(0.4)(x)\n",
    "\n",
    "x = Conv2D(128, kernel_size=(3, 3), activation='relu', padding='same', kernel_regularizer=l2(0.001))(x)\n",
    "x = BatchNormalization()(x)\n",
    "x = MaxPooling2D(pool_size=(2, 2))(x)\n",
    "x = Dropout(0.5)(x)\n",
    "\n",
    "x = Conv2D(256, kernel_size=(3, 3), activation='relu', padding='same', kernel_regularizer=l2(0.001))(x)\n",
    "x = BatchNormalization()(x)\n",
    "x = MaxPooling2D(pool_size=(2, 2))(x)\n",
    "x = Dropout(0.5)(x)\n",
    "\n",
    "x = GlobalAveragePooling2D()(x)\n",
    "x = Dense(512, activation='relu')(x)\n",
    "x = Dropout(0.5)(x)\n",
    "model_output = Dense(NUM_CLASSES, activation='softmax')(x)\n",
    "model = Model(inputs=model_input, outputs=model_output)"
   ]
  },
  {
   "cell_type": "code",
   "execution_count": null,
   "metadata": {
    "execution": {
     "iopub.execute_input": "2024-11-06T20:02:40.995987Z",
     "iopub.status.busy": "2024-11-06T20:02:40.995056Z",
     "iopub.status.idle": "2024-11-06T20:13:39.375316Z",
     "shell.execute_reply": "2024-11-06T20:13:39.374429Z",
     "shell.execute_reply.started": "2024-11-06T20:02:40.995937Z"
    },
    "trusted": true
   },
   "outputs": [],
   "source": [
    "optimizer = tf.keras.optimizers.Adam(learning_rate=0.00005)\n",
    "model.compile(optimizer=optimizer, loss='categorical_crossentropy', metrics=['accuracy'])\n",
    "\n",
    "def scheduler(epoch, lr):\n",
    "    return lr * tf.math.exp(-0.1).numpy() if epoch >= 10 else lr\n",
    "\n",
    "callback = LearningRateScheduler(scheduler)\n",
    "\n",
    "early_stopping = EarlyStopping(monitor='val_loss', patience=20, restore_best_weights=True)\n",
    "\n",
    "history = model.fit(X_train[..., np.newaxis], y_train, \n",
    "                    batch_size=16, \n",
    "                    epochs=100, \n",
    "                    validation_data=(X_val[..., np.newaxis], y_val), \n",
    "                    callbacks=[callback, early_stopping])\n",
    "\n",
    "model.save(\"/kaggle/working/kk-main-model/kk_main_final.h5\")"
   ]
  },
  {
   "cell_type": "code",
   "execution_count": null,
   "metadata": {
    "execution": {
     "iopub.execute_input": "2024-11-06T20:14:13.416525Z",
     "iopub.status.busy": "2024-11-06T20:14:13.415845Z",
     "iopub.status.idle": "2024-11-06T20:14:13.493110Z",
     "shell.execute_reply": "2024-11-06T20:14:13.492253Z",
     "shell.execute_reply.started": "2024-11-06T20:14:13.416481Z"
    },
    "trusted": true
   },
   "outputs": [],
   "source": [
    "\n",
    "model.save(\"/kaggle/working/kk-main-model/kk_main_ksk.h5\")\n"
   ]
  },
  {
   "cell_type": "code",
   "execution_count": null,
   "metadata": {
    "execution": {
     "iopub.execute_input": "2024-11-06T15:52:35.901432Z",
     "iopub.status.busy": "2024-11-06T15:52:35.900998Z",
     "iopub.status.idle": "2024-11-06T15:52:35.906980Z",
     "shell.execute_reply": "2024-11-06T15:52:35.905931Z",
     "shell.execute_reply.started": "2024-11-06T15:52:35.901394Z"
    },
    "trusted": true
   },
   "outputs": [],
   "source": [
    "print(f\"Length of y_true: {len(y_true)}\")\n",
    "print(f\"Length of y_pred_classes: {len(y_pred_classes)}\")\n"
   ]
  },
  {
   "cell_type": "code",
   "execution_count": null,
   "metadata": {
    "execution": {
     "iopub.execute_input": "2024-11-06T19:57:33.881443Z",
     "iopub.status.busy": "2024-11-06T19:57:33.880952Z",
     "iopub.status.idle": "2024-11-06T19:59:40.427290Z",
     "shell.execute_reply": "2024-11-06T19:59:40.425585Z",
     "shell.execute_reply.started": "2024-11-06T19:57:33.881386Z"
    },
    "trusted": true
   },
   "outputs": [],
   "source": [
    "# Testing\n",
    "TEST_DATASET_PATH = \"/kaggle/input/deep911/validation/combi\"\n",
    "test_files = os.listdir(TEST_DATASET_PATH)\n",
    "y_true = np.array([labels[os.path.splitext(file)[0]] for file in test_files if os.path.splitext(file)[0] in labels])\n",
    "\n",
    "X_test = []\n",
    "for file_name in test_files:\n",
    "    file_path = os.path.join(TEST_DATASET_PATH, file_name)\n",
    "    try:\n",
    "        audio, _ = librosa.load(file_path, sr=SAMPLE_RATE, duration=DURATION)\n",
    "        mel_spectrogram = librosa.feature.melspectrogram(y=audio, sr=SAMPLE_RATE, n_mels=N_MELS)\n",
    "        mel_spectrogram = librosa.power_to_db(mel_spectrogram, ref=np.max)\n",
    "        mel_spectrogram = np.pad(mel_spectrogram, ((0, 0), (0, max(0, MAX_TIME_STEPS - mel_spectrogram.shape[1]))), mode='constant')\n",
    "        X_test.append(mel_spectrogram[:, :MAX_TIME_STEPS] / 80.0)\n",
    "    except Exception as e:\n",
    "        print(f\"Error loading {file_name}: {e}\")\n",
    "        continue\n",
    "\n",
    "X_test = np.array(X_test)[..., np.newaxis]\n",
    "\n",
    "if len(X_test) > 0:\n",
    "    y_pred = model.predict(X_test)\n",
    "    y_pred_classes = np.argmax(y_pred, axis=1)\n"
   ]
  },
  {
   "cell_type": "code",
   "execution_count": null,
   "metadata": {
    "execution": {
     "iopub.execute_input": "2024-11-06T15:08:00.138872Z",
     "iopub.status.busy": "2024-11-06T15:08:00.137914Z",
     "iopub.status.idle": "2024-11-06T15:08:00.177620Z",
     "shell.execute_reply": "2024-11-06T15:08:00.176792Z",
     "shell.execute_reply.started": "2024-11-06T15:08:00.138815Z"
    },
    "trusted": true
   },
   "outputs": [],
   "source": [
    "model.summary()\n"
   ]
  },
  {
   "cell_type": "code",
   "execution_count": null,
   "metadata": {
    "execution": {
     "iopub.execute_input": "2024-11-06T15:55:15.619708Z",
     "iopub.status.busy": "2024-11-06T15:55:15.619303Z",
     "iopub.status.idle": "2024-11-06T15:55:16.260159Z",
     "shell.execute_reply": "2024-11-06T15:55:16.259123Z",
     "shell.execute_reply.started": "2024-11-06T15:55:15.619668Z"
    },
    "trusted": true
   },
   "outputs": [],
   "source": [
    "\n",
    "cm = confusion_matrix(y_true, y_pred_classes)\n",
    "disp = ConfusionMatrixDisplay(confusion_matrix=cm, display_labels=[\"spoof\", \"bonafide\"])\n",
    "disp.plot(cmap=plt.cm.Blues)\n",
    "plt.title(\"Confusion Matrix\")\n",
    "plt.show()\n"
   ]
  }
 ],
 "metadata": {
  "kaggle": {
   "accelerator": "nvidiaTeslaT4",
   "dataSources": [
    {
     "datasetId": 6018700,
     "sourceId": 9816636,
     "sourceType": "datasetVersion"
    },
    {
     "datasetId": 6018731,
     "sourceId": 9816710,
     "sourceType": "datasetVersion"
    },
    {
     "datasetId": 6018755,
     "sourceId": 9816742,
     "sourceType": "datasetVersion"
    },
    {
     "datasetId": 6025337,
     "sourceId": 9825538,
     "sourceType": "datasetVersion"
    }
   ],
   "dockerImageVersionId": 30787,
   "isGpuEnabled": true,
   "isInternetEnabled": true,
   "language": "python",
   "sourceType": "notebook"
  },
  "kernelspec": {
   "display_name": "Python 3",
   "language": "python",
   "name": "python3"
  },
  "language_info": {
   "codemirror_mode": {
    "name": "ipython",
    "version": 3
   },
   "file_extension": ".py",
   "mimetype": "text/x-python",
   "name": "python",
   "nbconvert_exporter": "python",
   "pygments_lexer": "ipython3",
   "version": "3.10.14"
  }
 },
 "nbformat": 4,
 "nbformat_minor": 4
}
